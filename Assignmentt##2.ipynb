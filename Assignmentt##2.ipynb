{
 "cells": [
  {
   "cell_type": "code",
   "execution_count": 4,
   "metadata": {},
   "outputs": [
    {
     "name": "stdout",
     "output_type": "stream",
     "text": [
      "please submit marks of Shahzaib , out of 50\n",
      "english marks45\n",
      "marks of english  45\n",
      "physics marks45\n",
      "marks of physics  45\n",
      "maths marks34\n",
      "marks of maths  34\n",
      "bio marks36\n",
      "marks of bio  36\n",
      "chemistry marks46\n",
      "marks of chemistry  46\n",
      "GRADE C\n",
      "total amrks of five subjetcs out of 250 are  206\n"
     ]
    }
   ],
   "source": [
    "print ('please submit marks of Shahzaib , out of 50')\n",
    "a= int(input('english marks'))\n",
    "print ('marks of english ',a)\n",
    "b= int(input('physics marks'))\n",
    "print ('marks of physics ',b)\n",
    "c= int(input('maths marks'))\n",
    "print ('marks of maths ',c)\n",
    "d= int(input('bio marks'))\n",
    "print ('marks of bio ',d)\n",
    "e= int(input('chemistry marks'))\n",
    "print ('marks of chemistry ',e)\n",
    "total = a+b+c+d+e\n",
    "if (total <=30):\n",
    "    print ('fail')\n",
    "elif (total >30 or total <=35):\n",
    "    print ('GRADE C')\n",
    "elif (total >35 or total <=40):\n",
    "    print ('GRADE B')\n",
    "elif (total >40 or total <=45):\n",
    "    print ('GRADE A')\n",
    "elif (total >45 or total <=50):\n",
    "    print ('GRADE A1')\n",
    "print ('total amrks of five subjetcs out of 250 are ', total)"
   ]
  },
  {
   "cell_type": "code",
   "execution_count": 6,
   "metadata": {},
   "outputs": [
    {
     "name": "stdout",
     "output_type": "stream",
     "text": [
      "enter the number to check either even or odd432\n",
      "number is even\n"
     ]
    }
   ],
   "source": [
    "a = int(input('enter the number to check either even or odd '))\n",
    "if (a%2==0):\n",
    "    print ('number is even')\n",
    "else :\n",
    "    print ('number is odd')"
   ]
  },
  {
   "cell_type": "code",
   "execution_count": 14,
   "metadata": {},
   "outputs": [
    {
     "name": "stdout",
     "output_type": "stream",
     "text": [
      "6\n"
     ]
    }
   ],
   "source": [
    "li=[22,32,45,32,12,32]\n",
    "print (len(li))\n"
   ]
  },
  {
   "cell_type": "code",
   "execution_count": 16,
   "metadata": {},
   "outputs": [
    {
     "name": "stdout",
     "output_type": "stream",
     "text": [
      "175\n"
     ]
    }
   ],
   "source": [
    "li=[22,32,45,32,12,32]\n",
    "print (sum(li))"
   ]
  },
  {
   "cell_type": "code",
   "execution_count": 24,
   "metadata": {},
   "outputs": [
    {
     "name": "stdout",
     "output_type": "stream",
     "text": [
      "largest number from the list is  45\n"
     ]
    }
   ],
   "source": [
    "li=[22,32,45,32,12,32]\n",
    "li.sort()\n",
    "print ('largest number from the list is ',li[5])"
   ]
  },
  {
   "cell_type": "code",
   "execution_count": 28,
   "metadata": {},
   "outputs": [
    {
     "name": "stdout",
     "output_type": "stream",
     "text": [
      "1\n",
      "\n",
      "1\n",
      "\n",
      "2\n",
      "\n",
      "3\n",
      "\n"
     ]
    }
   ],
   "source": [
    "list=[1 ,1, 2, 3, 5, 8, 13, 21, 34, 55, 89]\n",
    "for num in list:\n",
    "    if(int(num) <5):\n",
    "        print(str(num)+\"\\n\")"
   ]
  },
  {
   "cell_type": "code",
   "execution_count": null,
   "metadata": {},
   "outputs": [],
   "source": []
  }
 ],
 "metadata": {
  "kernelspec": {
   "display_name": "Python 3",
   "language": "python",
   "name": "python3"
  },
  "language_info": {
   "codemirror_mode": {
    "name": "ipython",
    "version": 3
   },
   "file_extension": ".py",
   "mimetype": "text/x-python",
   "name": "python",
   "nbconvert_exporter": "python",
   "pygments_lexer": "ipython3",
   "version": "3.7.4"
  }
 },
 "nbformat": 4,
 "nbformat_minor": 2
}
